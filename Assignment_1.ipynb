{
  "nbformat": 4,
  "nbformat_minor": 0,
  "metadata": {
    "colab": {
      "provenance": [],
      "authorship_tag": "ABX9TyMtYIM3f5QPM2RS25WQqFq9",
      "include_colab_link": true
    },
    "kernelspec": {
      "name": "python3",
      "display_name": "Python 3"
    },
    "language_info": {
      "name": "python"
    }
  },
  "cells": [
    {
      "cell_type": "markdown",
      "metadata": {
        "id": "view-in-github",
        "colab_type": "text"
      },
      "source": [
        "<a href=\"https://colab.research.google.com/github/Sangeet96/Assignment-Python/blob/main/Assignment_1.ipynb\" target=\"_parent\"><img src=\"https://colab.research.google.com/assets/colab-badge.svg\" alt=\"Open In Colab\"/></a>"
      ]
    },
    {
      "cell_type": "markdown",
      "source": [
        "Question 1"
      ],
      "metadata": {
        "id": "B_KWMaI8j8a-"
      }
    },
    {
      "cell_type": "code",
      "execution_count": null,
      "metadata": {
        "id": "x0qH2S0gj3-k"
      },
      "outputs": [],
      "source": [
        "L=[11,12,13,14]\n",
        "print(\"The list is----\",L)\n",
        "L.append(50)\n",
        "L.append(60)\n",
        "print(\"(i) After appending----\",L)\n",
        "del L[0]\n",
        "del L[1]\n",
        "print(\"(ii) After deleting 11 & 13----\",L)\n",
        "L.sort()\n",
        "print(\"(iii) After Ascending----\",L)\n",
        "L.sort(reverse=True)\n",
        "print(\"(iv) After Descending----\",L)\n",
        "\n",
        "if(13 in L==True):\n",
        "  print(\"(v) Yes 13 is Present\")\n",
        "else:\n",
        "  print(\"(v) No 13 is not Present\")\n",
        "\n",
        "print(\"(vi) The number of elements----\",len(L))\n",
        "\n",
        "print(\"(vii) The sum of all elements----\",sum(L))\n",
        "\n",
        "sum_odd=0\n",
        "\n",
        "for s in L:\n",
        "  if(s%2!=0):\n",
        "    sum_odd=sum_odd+s\n",
        "  else:\n",
        "    continue\n",
        "print(\"(viii) The sum of odd numbers----\",sum_odd)\n",
        "\n",
        "sum_eve=0\n",
        "for s in L:\n",
        "  if(s%2==0):\n",
        "    sum_eve=sum_eve+s\n",
        "  else:\n",
        "    continue\n",
        "print(\"(ix) The sum of even numbers----\",sum_eve)\n",
        "\n",
        "sum_prime=0\n",
        "flag=0\n",
        "#As there is no prime number in list so let's add few\n",
        "L.append(13)\n",
        "L.append(17)\n",
        "\n",
        "for s in L:\n",
        "  for n in range(2,s//2+1):\n",
        "    if(s%n==0):\n",
        "      flag=0\n",
        "    else:\n",
        "      flag=1\n",
        "  if(flag==1):\n",
        "    sum_prime=sum_prime+s\n",
        "  else:\n",
        "    continue\n",
        "\n",
        "print(\"(x) The sum of prime numbers----\",sum_prime)\n",
        "\n",
        "L.clear()\n",
        "print(\"(xi) List after clearing----\",L)\n",
        "\n",
        "try:\n",
        "  del L\n",
        "  print(L)\n",
        "except:\n",
        "  print(\"(xii) Deleted\")\n"
      ]
    },
    {
      "cell_type": "markdown",
      "source": [
        "Question 2"
      ],
      "metadata": {
        "id": "yp1awES3kCbe"
      }
    },
    {
      "cell_type": "code",
      "source": [
        "D={1:5.6,2:7.8,3:6.6,4:8.7,5:7.7}\n",
        "print(\"Original Dictionary----\",D)\n",
        "\n",
        "D[8]=8.8\n",
        "print(\"(i) After Adding key 8----\",D)\n",
        "\n",
        "del D[2]\n",
        "print(\"(ii) After Deleting key 2----\",D)\n",
        "\n",
        "if((6 in D) ==True):\n",
        "  print(\"(iii) Yes, Key 6 is present\")\n",
        "else:\n",
        "  print(\"(iii) No, Key 6 is not present\")\n",
        "\n",
        "print(\"(iv) The number of elements in D----\",len(D))\n",
        "print(\"(v) The sum of all values in D----\",sum(D.values()))\n",
        "\n",
        "D[3]=7.1\n",
        "print(\"(vi) The dictionary after updating----\",D)\n",
        "\n",
        "D.clear()\n",
        "print(\"(vii) The dictionary after clearing----\",D)"
      ],
      "metadata": {
        "id": "rQIPdI-hkFAQ"
      },
      "execution_count": null,
      "outputs": []
    },
    {
      "cell_type": "markdown",
      "source": [
        "Question 3"
      ],
      "metadata": {
        "id": "n0yZzWBooPPN"
      }
    },
    {
      "cell_type": "code",
      "source": [
        "S1=set([10,20,30,40,50,60])\n",
        "S2=set([40,50,60,70,80,90])\n",
        "print(\"Original sets----\",S1,S2)\n",
        "S1.add(55)\n",
        "S1.add(66)\n",
        "print(\"(i) After appending set 1----\",S1)\n",
        "\n",
        "S1.remove(10)\n",
        "S1.remove(30)\n",
        "print(\"(ii) After removing 10 & 30----\",S1)\n",
        "\n",
        "if((40 in S1)==True):\n",
        "  print(\"(iii) Yes, 40 is present\")\n",
        "else:\n",
        "  print(\"(iii) No, 40 is not present\")\n",
        "\n",
        "print(\"(iv) Set after union of S1 & S2----\",S1.union(S2))\n",
        "print(\"(v) Set after intersection of S1 & S2----\",S1.intersection(S2))\n",
        "print(\"(vi) Set after Difference of S1 and S2----\",S1.difference(S2))"
      ],
      "metadata": {
        "id": "zucVw6mVoSDO"
      },
      "execution_count": null,
      "outputs": []
    },
    {
      "cell_type": "markdown",
      "source": [
        "Question 4(i)"
      ],
      "metadata": {
        "id": "O7_5SBTfs_Rq"
      }
    },
    {
      "cell_type": "code",
      "source": [
        "import string as s\n",
        "import random as r\n",
        "\n",
        "print(\"The letters are----\",s.ascii_letters)\n",
        "\n",
        "n=0\n",
        "for n in range(0,101):\n",
        "  m=r.randint(6,8)\n",
        "  chars=r.sample(s.ascii_letters,m)\n",
        "  pswrd=\"\".join(chars)\n",
        "  print(\"The \",n,\"th password with \",m,\"characters is----\",pswrd)"
      ],
      "metadata": {
        "id": "D_4mRUH-tBhU"
      },
      "execution_count": null,
      "outputs": []
    },
    {
      "cell_type": "markdown",
      "source": [
        "Question 4(ii)"
      ],
      "metadata": {
        "id": "sn9LLVjR_1Or"
      }
    },
    {
      "cell_type": "code",
      "source": [
        "flag=0\n",
        "for n in range(600,801):\n",
        "  for i in range(2,n//2+1):\n",
        "    if(n%i==0):\n",
        "      flag=0\n",
        "    else:\n",
        "      flag=1\n",
        "  if(flag==1):\n",
        "    print(\"the number is----\",n)"
      ],
      "metadata": {
        "id": "p9PvKozq_1ta"
      },
      "execution_count": null,
      "outputs": []
    },
    {
      "cell_type": "markdown",
      "source": [
        "Question 4(iii)"
      ],
      "metadata": {
        "id": "J8DZgdWXDHg6"
      }
    },
    {
      "cell_type": "code",
      "source": [
        "for n in range(100,1001):\n",
        "  if(n%7==0 and n%9==0):\n",
        "    print(\"The number is----\",n)\n",
        "  else:\n",
        "    continue"
      ],
      "metadata": {
        "id": "INqjEW8TA3uU"
      },
      "execution_count": null,
      "outputs": []
    },
    {
      "cell_type": "markdown",
      "source": [
        "Question 5"
      ],
      "metadata": {
        "id": "ThNoIOWBEbaS"
      }
    },
    {
      "cell_type": "code",
      "source": [
        "import random as r\n",
        "L1=[]\n",
        "L2=[]\n",
        "for i in range(1,11):\n",
        "  n=r.randint(10,30)\n",
        "  L1.append(n)\n",
        "for i in range(1,11):\n",
        "  n=r.randint(10,30)\n",
        "  L2.append(n)\n",
        "print(\"The List 1 is----\",L1)\n",
        "print(\"The List 2 is----\",L2)\n",
        "print(\"(i) The common members are----\")\n",
        "for i in range(0,10):\n",
        "  for j in range(0,10):\n",
        "    if(L1[i]==L2[j]):\n",
        "      print(L1[i])\n",
        "    else:\n",
        "      continue\n",
        "\n",
        "print(\"(ii) The unique members are----\")\n",
        "flag=0\n",
        "for i in range(0,10):\n",
        "  for j in range(0,10):\n",
        "    if(L1[i]==L2[j]):\n",
        "      flag=0\n",
        "      break\n",
        "    else:\n",
        "      flag=1\n",
        "  if(flag==1):\n",
        "    print(L1[i])\n",
        "\n",
        "print(\"(iii) The min in list 1----\",min(L1))\n",
        "print(\"(iii) The min in list 2----\",min(L2))\n",
        "print(\"(iv) The max in list 1----\",max(L1))\n",
        "print(\"(iv) The max in list 2----\",max(L2))\n",
        "\n",
        "print(\"(v) The sum is----\",L1+L2)"
      ],
      "metadata": {
        "id": "Nbok6iKCFOEr"
      },
      "execution_count": null,
      "outputs": []
    },
    {
      "cell_type": "markdown",
      "source": [
        "Question 6"
      ],
      "metadata": {
        "id": "jZsww8JCINrN"
      }
    },
    {
      "cell_type": "code",
      "source": [
        "import random as r\n",
        "L=[]\n",
        "for i in range(0,100):\n",
        "  L.append(r.randint(100,900))\n",
        "print(\"The list is----\",L)\n",
        "count_eve=0\n",
        "print(\"(i) The even numbers are----\")\n",
        "for s in L:\n",
        "  if(s%2==0):\n",
        "    count_eve=count_eve+1\n",
        "    print(s)\n",
        "  else:\n",
        "    continue\n",
        "print(\"Total number of eve----\",count_eve)\n",
        "count_odd=0\n",
        "print(\"(ii) The odd numbers are----\")\n",
        "for s in L:\n",
        "  if(s%2==0):\n",
        "    count_odd=count_odd+1\n",
        "    print(s)\n",
        "  else:\n",
        "    continue\n",
        "print(\"Total number of odd----\",count_odd)\n",
        "flag=0\n",
        "count_prime=0\n",
        "print(\"The prime numbers are----\")\n",
        "for s in L:\n",
        "  for n in range(2,s//2+1):\n",
        "    if(s%n==0):\n",
        "      flag=0\n",
        "      break\n",
        "    else:\n",
        "      flag=1\n",
        "      continue\n",
        "  if(flag==1):\n",
        "    print(s)\n",
        "    count_prime=count_prime+1\n",
        "  else:\n",
        "    continue\n",
        "print(\"The total prime are----\",count_prime)"
      ],
      "metadata": {
        "id": "F5_kXeifIOjA"
      },
      "execution_count": null,
      "outputs": []
    },
    {
      "cell_type": "markdown",
      "source": [
        "Question 7"
      ],
      "metadata": {
        "id": "szWwtmd_Nht1"
      }
    },
    {
      "cell_type": "code",
      "source": [
        "D={1:\"One\",2:\"Two\",3:\"Three\",4:\"Four\", 5:\"Five\"}\n",
        "fp=open('Ques7.txt','w')\n",
        "fp.write(D[1]+\"\\n\")\n",
        "fp.write(D[2]+\"\\n\")\n",
        "fp.write(D[3]+\"\\n\")\n",
        "fp.write(D[4]+\"\\n\")\n",
        "fp.write(D[5])\n",
        "fp.close()\n"
      ],
      "metadata": {
        "id": "jpjqfKCmNiEt"
      },
      "execution_count": null,
      "outputs": []
    },
    {
      "cell_type": "markdown",
      "source": [
        "Question 8"
      ],
      "metadata": {
        "id": "jTOiSoNBRdF2"
      }
    },
    {
      "cell_type": "code",
      "source": [
        "L=[\"One\",\"Two\",\"Three\",\"Four\",\"Five\"]\n",
        "fp=open('Ques8.txt','w')\n",
        "\n",
        "fp.write(L[0]+\" \")\n",
        "fp.write(str(len(L[0]))+\"\\n\")\n",
        "fp.write(L[1]+\" \")\n",
        "fp.write(str(len(L[1]))+\"\\n\")\n",
        "fp.write(L[2]+\" \")\n",
        "fp.write(str(len(L[2]))+\"\\n\")\n",
        "fp.write(L[3]+\" \")\n",
        "fp.write(str(len(L[3]))+\"\\n\")\n",
        "fp.write(L[4]+\" \")\n",
        "fp.write(str(len(L[4])))\n",
        "fp.close()\n",
        "\n"
      ],
      "metadata": {
        "id": "iivG5yvMRdcU"
      },
      "execution_count": null,
      "outputs": []
    },
    {
      "cell_type": "markdown",
      "source": [
        "Question 9"
      ],
      "metadata": {
        "id": "hoCgU_OVTULl"
      }
    },
    {
      "cell_type": "code",
      "source": [
        "import random as r\n",
        "import string as s\n",
        "\n",
        "fp=open('Ques9.txt','w')\n",
        "fp.write(\"Total characters---\")\n",
        "fp.write(s.ascii_letters)\n",
        "for i in range(0,100):\n",
        "  m=r.randint(10,15)\n",
        "  sent=r.sample(s.ascii_letters,m)\n",
        "  line=\"\".join(sent)\n",
        "  fp.write(line+\" \"+str(m)+\"\\n\")\n",
        "fp.close()"
      ],
      "metadata": {
        "id": "uFSYK3vETUeN"
      },
      "execution_count": null,
      "outputs": []
    },
    {
      "cell_type": "markdown",
      "source": [
        "Question 10"
      ],
      "metadata": {
        "id": "C05QZDRBWXc-"
      }
    },
    {
      "cell_type": "code",
      "source": [
        "fp=open('Ques10.txt','w')\n",
        "\n",
        "\n",
        "for n in range(600,801):\n",
        "  for i in range(2,n//2+1):\n",
        "    if(n%i==0):\n",
        "      flag=0\n",
        "      break\n",
        "    else:\n",
        "      flag=1\n",
        "      continue\n",
        "  if(flag==1):\n",
        "    fp.write(str(n)+\"\\n\")\n",
        "  else:\n",
        "    continue\n",
        "fp.close()"
      ],
      "metadata": {
        "id": "Rq7_ZyzcWXs3"
      },
      "execution_count": null,
      "outputs": []
    },
    {
      "cell_type": "markdown",
      "source": [
        "Question 13"
      ],
      "metadata": {
        "id": "T5xeSgFtX2ga"
      }
    },
    {
      "cell_type": "code",
      "source": [
        "D={}\n",
        "for i in range(0,5):\n",
        "  s=input(\"Enter the subject---\")\n",
        "  m=int(input(\"Enter the marks---\"))\n",
        "  D[s]=m\n",
        "\n",
        "print(\"The dictionary is---\",D)\n",
        "print(\"The maximum marks are in---\",max(D))\n",
        "print(\"The minimum marks are in---\",min(D))"
      ],
      "metadata": {
        "id": "Ewg7007fX2xC"
      },
      "execution_count": null,
      "outputs": []
    }
  ]
}